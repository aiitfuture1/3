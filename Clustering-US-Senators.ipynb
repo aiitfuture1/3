{
 "cells": [
  {
   "cell_type": "markdown",
   "metadata": {},
   "source": [
    "<img src='https://lh3.googleusercontent.com/b8Cmw_ouaEGOrfNOonyOfHYwvZCQDgPwdpkZGyZr3UEpbKb_vLfBHRgJcuZW_GtWmi61ODYvHjACskutfMLkriDyWhVNfwEJrbqYjTFjuH8wsUcWaby-hCYRQErX3SigVZbF0pKjOQ' alt=\"\" width=\"700\" height=\"250\"/>\n"
   ]
  },
  {
   "cell_type": "markdown",
   "metadata": {},
   "source": [
    "<br><br>\n",
    "<p style=\"font-family: Arial;font-size:3.5em; color:#09bef3; font-style:bold; text-align:center\">\n",
    "LimFinity Institute of Technology\n",
    "</p>\n",
    "\n",
    "<p style=\"font-family: Arial; font-size:2em;color:#09bef3; font-style:normal; text-align:center; font-weight: bold\"><br><br>\n",
    "\n",
    "استخدام التكتل لتحليل توجهات اعضاء الكونغرس الامريكي\n",
    "<br>\n",
    "<br><br>\n",
    "<img src='https://lh3.googleusercontent.com/KNARpmZmZbReEseduex5vG1_vUthn5opuSYrt5bhjR5X5T3dVeJY1KZ0JPii6Nz7Rd-q3tTasZTH3pW2ulkm3_JrbOd34VFRBnKUKAZ9vVWkf2OqiCCK6cFavLCLlsX4DuU7NIDNMQ' alt=\"\" width=\"800\" height=\"200\"/>\n",
    "\n",
    "\n",
    "\n",
    "\n",
    "\n",
    "<p style=\"font-family: Arial; font-size:1.75em;color:#09bef3; font-style:bold; text-align:right; direction: rtl; font-weight: bold\" ><br>\n",
    "\n",
    "مصدر البيانات: موقع GovTrack الامريكي</p>\n",
    "\n",
    "<p style=\"font-family: Arial; font-size:1.2em;color:black; font-style:normal; text-align:right; direction: rtl\"><br>\n",
    "في هذا المشروع سوف نستخدم التكتل (Clustering) والذي هو احد فروع تعليم الالة بدون اشراف سنستخدمه في تحليل بيانات اعضاء مجلس الشيوخ الامريكي (Congress) وتحليل توجهاتهم حيث يسيطر على مجلس الشيوخ الامريكي حزبين وهما حزب الديمقراطيين (Democrats) والذين توجهاتهم ليبرالية والحزب الثاني هو حزب الجمهوريين (Republicans) والمعروفين بالمحافظين نسبة الى توجهاتهم بالاضافة الى بعض الاعضاء المستقلين (Independents) والذين اعدادهم قليلة جدا\n",
    "\n",
    "<br>\n",
    "من المعروف في نظام الاحزاب ان اعضاء الاحزاب يصوتون دائما حسب توجهات الاحزاب التي ينتمون اليها وحسب رغبات هذه الاحزاب وفي هذا المشروع سوف نقوم بتحليل بيانات الكونغرس الامريكي من اجل الاطلاع على مجريات التصويت تحت قبة الكونغرس الامريكي وبالاضافة الى استكشاف نمط البيانات واستكشاف اعضاء الكونغرس الذين صوتوا بأستقلالية مثلا عضو جمهوري ولكن كانت توجهاته ليبرالية ولذلك سوف نقوم بأستخدام التكتل لتجميع البيانات المتشابهة على شكل كتل ومن ثم تصويرها من اجل فهم مجريات التصويت\n",
    "\n",
    "<br>\n",
    "البيانات التي سنعمل عليها تمثل بيانات تصويت اعضاء مجلس الشيوخ الامريكي حيث كل سطر يمثل بيانات سيناتور او عضو مجلس شيوخ امريكي والاعمدة تمثل دعوات التصويت في مجلس الشيوخ والبيانات في داخل هذه الاعمدة هي 1 ويعني ان السيناتور صوت بنعم او 0 وتعني صوت ب كلا او 0.5 وتعني امتنع عن التصويت \n",
    "<br>\n",
    "الاعمدة الموجودة في البيانات هي:\n",
    "</p>\n",
    "\n",
    "\n",
    "* **name** (الاسم الاخير للسيناتور)\n",
    "* **party** (الحزب)\n",
    "D: Democrat, R: Republican, I: Independent\n",
    "* **state** (مختصر اسم الولاية)\n",
    "* **Several columns numbered like 00001, 00004, etc** (كل رقم يمثل جلسة تصويت)"
   ]
  },
  {
   "cell_type": "markdown",
   "metadata": {},
   "source": [
    "<p style=\"font-family: Arial; font-size:1.75em;color:#09bef3; font-style:bold; text-align:right; direction: rtl; font-weight: bold\" ><br>\n",
    "\n",
    "استيراد المكتبات التي نحتاجها في المشروع:\n",
    "</p>\n",
    "\n",
    "<p style=\"font-family: Arial; font-size:1.2em;color:black; font-style:normal; text-align:right; direction: rtl\"><br>\n",
    "\n",
    "- سوف نقوم بأستيراد مكتبة Pandas من اجل قراءة البيانات واستكشافها\n",
    "<br>\n",
    "- من اجل تصوير البيانات سوف نقوم بأستيراد مكتبة Matplotlib ومكتبة Seaborn\n",
    "<br>\n",
    "- سوف نقوم بأستيراد خوارزمية KMeans من مكتبة sklearn وهي احدى خوارزميات التكتل المهمة وسنتعرف عليها اكثر في الدورات القادمة\n",
    "\n",
    "</p>"
   ]
  },
  {
   "cell_type": "code",
   "execution_count": 18,
   "metadata": {
    "collapsed": true
   },
   "outputs": [],
   "source": [
    "import pandas as pd\n",
    "import matplotlib.pyplot as plt\n",
    "import seaborn as sns\n",
    "%matplotlib inline\n",
    "\n",
    "from sklearn.cluster import KMeans"
   ]
  },
  {
   "cell_type": "markdown",
   "metadata": {},
   "source": [
    "<p style=\"font-family: Arial; font-size:1.2em;color:black; font-style:normal; text-align:right; direction: rtl\"><br>\n",
    "\n",
    "ملاحظة: خوارزمية التكتل او خوارزمية التجميع تقوم بتجميع العناصر المتشابهة مع بعض في مجموعة وقد تكون لدينا اكثر من مجموعة في البيانات كما ان خوارزمية التكتل هي احدى انواع تعليم الالة بدون اشراف يعني لايوجد لدينا عمود هدف Labels في البيانات ودور الخوارزمية هو انشاء عمود ال Labels من خلال التنبؤ به وايضا لايوجد مقياس لقياس دقة نموذج التكتل ولكن بأمكاننا معرفة دقة النموذج من خلال عرض المجموعات التي صنعها النموذج على شكل رسوم بيانية وسنتعرف على ذلك في هذا المشروع \n",
    "</p>\n",
    "\n",
    "\n",
    "<p style=\"font-family: Arial; font-size:1.2em;color:black; font-style:normal; text-align:right; direction: rtl\"><br>\n",
    "سوف نقوم بقراء البيانات 114_congress.csv والمخزونة في الفولدر datasets ومن الواضح انه صيغة هذا الملف comma-separated-values CSV وسوف نحول هذا الملف الى جدول DataFrame\n",
    "\n",
    "بأستخدام Pandas وسوف نخزنه في متغير اسمه votes وسوف نستعرض اول عشرة سطور من اجل استكشاف البيانات وفهمها\n",
    "</p>"
   ]
  },
  {
   "cell_type": "code",
   "execution_count": 19,
   "metadata": {},
   "outputs": [
    {
     "data": {
      "text/html": [
       "<div>\n",
       "<style>\n",
       "    .dataframe thead tr:only-child th {\n",
       "        text-align: right;\n",
       "    }\n",
       "\n",
       "    .dataframe thead th {\n",
       "        text-align: left;\n",
       "    }\n",
       "\n",
       "    .dataframe tbody tr th {\n",
       "        vertical-align: top;\n",
       "    }\n",
       "</style>\n",
       "<table border=\"1\" class=\"dataframe\">\n",
       "  <thead>\n",
       "    <tr style=\"text-align: right;\">\n",
       "      <th></th>\n",
       "      <th>name</th>\n",
       "      <th>party</th>\n",
       "      <th>state</th>\n",
       "      <th>00001</th>\n",
       "      <th>00004</th>\n",
       "      <th>00005</th>\n",
       "      <th>00006</th>\n",
       "      <th>00007</th>\n",
       "      <th>00008</th>\n",
       "      <th>00009</th>\n",
       "      <th>00010</th>\n",
       "      <th>00020</th>\n",
       "      <th>00026</th>\n",
       "      <th>00032</th>\n",
       "      <th>00038</th>\n",
       "      <th>00039</th>\n",
       "      <th>00044</th>\n",
       "      <th>00047</th>\n",
       "    </tr>\n",
       "  </thead>\n",
       "  <tbody>\n",
       "    <tr>\n",
       "      <th>0</th>\n",
       "      <td>Alexander</td>\n",
       "      <td>R</td>\n",
       "      <td>TN</td>\n",
       "      <td>0.0</td>\n",
       "      <td>1.0</td>\n",
       "      <td>1.0</td>\n",
       "      <td>1.0</td>\n",
       "      <td>1.0</td>\n",
       "      <td>0.0</td>\n",
       "      <td>0.0</td>\n",
       "      <td>1.0</td>\n",
       "      <td>1.0</td>\n",
       "      <td>1.0</td>\n",
       "      <td>0.0</td>\n",
       "      <td>0.0</td>\n",
       "      <td>0.0</td>\n",
       "      <td>0.0</td>\n",
       "      <td>0.0</td>\n",
       "    </tr>\n",
       "    <tr>\n",
       "      <th>1</th>\n",
       "      <td>Ayotte</td>\n",
       "      <td>R</td>\n",
       "      <td>NH</td>\n",
       "      <td>0.0</td>\n",
       "      <td>1.0</td>\n",
       "      <td>1.0</td>\n",
       "      <td>1.0</td>\n",
       "      <td>1.0</td>\n",
       "      <td>0.0</td>\n",
       "      <td>0.0</td>\n",
       "      <td>1.0</td>\n",
       "      <td>0.0</td>\n",
       "      <td>1.0</td>\n",
       "      <td>0.0</td>\n",
       "      <td>1.0</td>\n",
       "      <td>0.0</td>\n",
       "      <td>1.0</td>\n",
       "      <td>0.0</td>\n",
       "    </tr>\n",
       "    <tr>\n",
       "      <th>2</th>\n",
       "      <td>Baldwin</td>\n",
       "      <td>D</td>\n",
       "      <td>WI</td>\n",
       "      <td>1.0</td>\n",
       "      <td>0.0</td>\n",
       "      <td>0.0</td>\n",
       "      <td>1.0</td>\n",
       "      <td>0.0</td>\n",
       "      <td>1.0</td>\n",
       "      <td>0.0</td>\n",
       "      <td>1.0</td>\n",
       "      <td>0.0</td>\n",
       "      <td>0.0</td>\n",
       "      <td>1.0</td>\n",
       "      <td>1.0</td>\n",
       "      <td>0.0</td>\n",
       "      <td>1.0</td>\n",
       "      <td>1.0</td>\n",
       "    </tr>\n",
       "    <tr>\n",
       "      <th>3</th>\n",
       "      <td>Barrasso</td>\n",
       "      <td>R</td>\n",
       "      <td>WY</td>\n",
       "      <td>0.0</td>\n",
       "      <td>1.0</td>\n",
       "      <td>1.0</td>\n",
       "      <td>1.0</td>\n",
       "      <td>1.0</td>\n",
       "      <td>0.0</td>\n",
       "      <td>1.0</td>\n",
       "      <td>1.0</td>\n",
       "      <td>1.0</td>\n",
       "      <td>1.0</td>\n",
       "      <td>0.0</td>\n",
       "      <td>0.0</td>\n",
       "      <td>1.0</td>\n",
       "      <td>0.0</td>\n",
       "      <td>0.0</td>\n",
       "    </tr>\n",
       "    <tr>\n",
       "      <th>4</th>\n",
       "      <td>Bennet</td>\n",
       "      <td>D</td>\n",
       "      <td>CO</td>\n",
       "      <td>0.0</td>\n",
       "      <td>0.0</td>\n",
       "      <td>0.0</td>\n",
       "      <td>1.0</td>\n",
       "      <td>0.0</td>\n",
       "      <td>1.0</td>\n",
       "      <td>0.0</td>\n",
       "      <td>1.0</td>\n",
       "      <td>0.0</td>\n",
       "      <td>0.0</td>\n",
       "      <td>0.0</td>\n",
       "      <td>1.0</td>\n",
       "      <td>0.0</td>\n",
       "      <td>1.0</td>\n",
       "      <td>0.0</td>\n",
       "    </tr>\n",
       "    <tr>\n",
       "      <th>5</th>\n",
       "      <td>Blumenthal</td>\n",
       "      <td>D</td>\n",
       "      <td>CT</td>\n",
       "      <td>1.0</td>\n",
       "      <td>0.0</td>\n",
       "      <td>0.0</td>\n",
       "      <td>1.0</td>\n",
       "      <td>0.0</td>\n",
       "      <td>1.0</td>\n",
       "      <td>0.0</td>\n",
       "      <td>1.0</td>\n",
       "      <td>0.0</td>\n",
       "      <td>0.0</td>\n",
       "      <td>1.0</td>\n",
       "      <td>1.0</td>\n",
       "      <td>0.0</td>\n",
       "      <td>1.0</td>\n",
       "      <td>1.0</td>\n",
       "    </tr>\n",
       "    <tr>\n",
       "      <th>6</th>\n",
       "      <td>Blunt</td>\n",
       "      <td>R</td>\n",
       "      <td>MO</td>\n",
       "      <td>0.0</td>\n",
       "      <td>1.0</td>\n",
       "      <td>1.0</td>\n",
       "      <td>1.0</td>\n",
       "      <td>1.0</td>\n",
       "      <td>0.0</td>\n",
       "      <td>1.0</td>\n",
       "      <td>1.0</td>\n",
       "      <td>1.0</td>\n",
       "      <td>1.0</td>\n",
       "      <td>0.0</td>\n",
       "      <td>0.0</td>\n",
       "      <td>1.0</td>\n",
       "      <td>0.0</td>\n",
       "      <td>0.0</td>\n",
       "    </tr>\n",
       "    <tr>\n",
       "      <th>7</th>\n",
       "      <td>Booker</td>\n",
       "      <td>D</td>\n",
       "      <td>NJ</td>\n",
       "      <td>1.0</td>\n",
       "      <td>0.0</td>\n",
       "      <td>0.0</td>\n",
       "      <td>1.0</td>\n",
       "      <td>0.0</td>\n",
       "      <td>1.0</td>\n",
       "      <td>0.0</td>\n",
       "      <td>1.0</td>\n",
       "      <td>0.0</td>\n",
       "      <td>0.0</td>\n",
       "      <td>1.0</td>\n",
       "      <td>1.0</td>\n",
       "      <td>0.0</td>\n",
       "      <td>1.0</td>\n",
       "      <td>1.0</td>\n",
       "    </tr>\n",
       "    <tr>\n",
       "      <th>8</th>\n",
       "      <td>Boozman</td>\n",
       "      <td>R</td>\n",
       "      <td>AR</td>\n",
       "      <td>0.0</td>\n",
       "      <td>1.0</td>\n",
       "      <td>1.0</td>\n",
       "      <td>1.0</td>\n",
       "      <td>1.0</td>\n",
       "      <td>0.0</td>\n",
       "      <td>1.0</td>\n",
       "      <td>1.0</td>\n",
       "      <td>1.0</td>\n",
       "      <td>1.0</td>\n",
       "      <td>0.0</td>\n",
       "      <td>0.0</td>\n",
       "      <td>1.0</td>\n",
       "      <td>0.0</td>\n",
       "      <td>0.0</td>\n",
       "    </tr>\n",
       "    <tr>\n",
       "      <th>9</th>\n",
       "      <td>Boxer</td>\n",
       "      <td>D</td>\n",
       "      <td>CA</td>\n",
       "      <td>0.5</td>\n",
       "      <td>0.0</td>\n",
       "      <td>0.0</td>\n",
       "      <td>1.0</td>\n",
       "      <td>0.0</td>\n",
       "      <td>1.0</td>\n",
       "      <td>0.0</td>\n",
       "      <td>1.0</td>\n",
       "      <td>0.0</td>\n",
       "      <td>0.0</td>\n",
       "      <td>1.0</td>\n",
       "      <td>1.0</td>\n",
       "      <td>0.0</td>\n",
       "      <td>1.0</td>\n",
       "      <td>1.0</td>\n",
       "    </tr>\n",
       "  </tbody>\n",
       "</table>\n",
       "</div>"
      ],
      "text/plain": [
       "         name party state  00001  00004  00005  00006  00007  00008  00009  \\\n",
       "0   Alexander     R    TN    0.0    1.0    1.0    1.0    1.0    0.0    0.0   \n",
       "1      Ayotte     R    NH    0.0    1.0    1.0    1.0    1.0    0.0    0.0   \n",
       "2     Baldwin     D    WI    1.0    0.0    0.0    1.0    0.0    1.0    0.0   \n",
       "3    Barrasso     R    WY    0.0    1.0    1.0    1.0    1.0    0.0    1.0   \n",
       "4      Bennet     D    CO    0.0    0.0    0.0    1.0    0.0    1.0    0.0   \n",
       "5  Blumenthal     D    CT    1.0    0.0    0.0    1.0    0.0    1.0    0.0   \n",
       "6       Blunt     R    MO    0.0    1.0    1.0    1.0    1.0    0.0    1.0   \n",
       "7      Booker     D    NJ    1.0    0.0    0.0    1.0    0.0    1.0    0.0   \n",
       "8     Boozman     R    AR    0.0    1.0    1.0    1.0    1.0    0.0    1.0   \n",
       "9       Boxer     D    CA    0.5    0.0    0.0    1.0    0.0    1.0    0.0   \n",
       "\n",
       "   00010  00020  00026  00032  00038  00039  00044  00047  \n",
       "0    1.0    1.0    1.0    0.0    0.0    0.0    0.0    0.0  \n",
       "1    1.0    0.0    1.0    0.0    1.0    0.0    1.0    0.0  \n",
       "2    1.0    0.0    0.0    1.0    1.0    0.0    1.0    1.0  \n",
       "3    1.0    1.0    1.0    0.0    0.0    1.0    0.0    0.0  \n",
       "4    1.0    0.0    0.0    0.0    1.0    0.0    1.0    0.0  \n",
       "5    1.0    0.0    0.0    1.0    1.0    0.0    1.0    1.0  \n",
       "6    1.0    1.0    1.0    0.0    0.0    1.0    0.0    0.0  \n",
       "7    1.0    0.0    0.0    1.0    1.0    0.0    1.0    1.0  \n",
       "8    1.0    1.0    1.0    0.0    0.0    1.0    0.0    0.0  \n",
       "9    1.0    0.0    0.0    1.0    1.0    0.0    1.0    1.0  "
      ]
     },
     "execution_count": 19,
     "metadata": {},
     "output_type": "execute_result"
    }
   ],
   "source": [
    "votes = pd.read_csv(\"./datasets/114_congress.csv\")\n",
    "votes.head(10)"
   ]
  },
  {
   "cell_type": "markdown",
   "metadata": {},
   "source": [
    "<p style=\"font-family: Arial; font-size:1.75em;color:#09bef3; font-style:bold; text-align:right; direction: rtl; font-weight: bold\" ><br>\n",
    "\n",
    "استكشاف البيانات:\n",
    "</p>\n",
    "\n",
    "\n",
    "<p style=\"font-family: Arial; font-size:1.2em;color:black; font-style:normal; text-align:right; direction: rtl\"><br>\n",
    "\n",
    "وكالمعتاد اول خطوة يجب القيام بها بداية اي مشروع هو استكشاف البيانات من اجل فهمها جيدا حيث اول شيء سنفعله هو استعراض الاعمدة من خلال المثود columns\n",
    "\n",
    "</p>"
   ]
  },
  {
   "cell_type": "code",
   "execution_count": 20,
   "metadata": {},
   "outputs": [
    {
     "data": {
      "text/plain": [
       "Index(['name', 'party', 'state', '00001', '00004', '00005', '00006', '00007',\n",
       "       '00008', '00009', '00010', '00020', '00026', '00032', '00038', '00039',\n",
       "       '00044', '00047'],\n",
       "      dtype='object')"
      ]
     },
     "execution_count": 20,
     "metadata": {},
     "output_type": "execute_result"
    }
   ],
   "source": [
    "votes.columns"
   ]
  },
  {
   "cell_type": "markdown",
   "metadata": {},
   "source": [
    "<p style=\"font-family: Arial; font-size:1.2em;color:black; font-style:normal; text-align:right; direction: rtl\"><br>\n",
    "\n",
    "لنستكشف الان عدد السطور والاعمدة في البيانات\n",
    "</p>"
   ]
  },
  {
   "cell_type": "code",
   "execution_count": 21,
   "metadata": {},
   "outputs": [
    {
     "data": {
      "text/plain": [
       "(100, 18)"
      ]
     },
     "execution_count": 21,
     "metadata": {},
     "output_type": "execute_result"
    }
   ],
   "source": [
    "votes.shape"
   ]
  },
  {
   "cell_type": "markdown",
   "metadata": {},
   "source": [
    "<p style=\"font-family: Arial; font-size:1.2em;color:black; font-style:normal; text-align:right; direction: rtl\"><br>\n",
    "\n",
    "لنكتشف هل يوجد قيم مفقودة في البيانات</p>"
   ]
  },
  {
   "cell_type": "code",
   "execution_count": 22,
   "metadata": {},
   "outputs": [
    {
     "data": {
      "text/plain": [
       "name     False\n",
       "party    False\n",
       "state    False\n",
       "00001    False\n",
       "00004    False\n",
       "00005    False\n",
       "00006    False\n",
       "00007    False\n",
       "00008    False\n",
       "00009    False\n",
       "00010    False\n",
       "00020    False\n",
       "00026    False\n",
       "00032    False\n",
       "00038    False\n",
       "00039    False\n",
       "00044    False\n",
       "00047    False\n",
       "dtype: bool"
      ]
     },
     "execution_count": 22,
     "metadata": {},
     "output_type": "execute_result"
    }
   ],
   "source": [
    "votes.isnull().any()"
   ]
  },
  {
   "cell_type": "markdown",
   "metadata": {},
   "source": [
    "<p style=\"font-family: Arial; font-size:1.2em;color:black; font-style:normal; text-align:right; direction: rtl\"><br>\n",
    "\n",
    "ممتاز لايوجد قيم مفقودة في اي عمود\n",
    "<br>\n",
    "لنكتشف ماهو عدد اعضاء الحزب الديمقراطي في البيانات وماهو عدد اعضاء الحزب الجمهوري وماهو عدد الاعضاء المستقلين من خلال تنفيذ المثود value_counts والتي تستخرج القيم الفريدة مع عدد العناصر ولنطبقها على عمود الحزب party\n",
    "\n",
    "</p>"
   ]
  },
  {
   "cell_type": "code",
   "execution_count": 23,
   "metadata": {
    "scrolled": false
   },
   "outputs": [
    {
     "data": {
      "text/plain": [
       "R    54\n",
       "D    44\n",
       "I     2\n",
       "Name: party, dtype: int64"
      ]
     },
     "execution_count": 23,
     "metadata": {},
     "output_type": "execute_result"
    }
   ],
   "source": [
    "ct = votes['party'].value_counts()\n",
    "ct"
   ]
  },
  {
   "cell_type": "markdown",
   "metadata": {},
   "source": [
    "<p style=\"font-family: Arial; font-size:1.2em;color:black; font-style:normal; text-align:right; direction: rtl\"><br>\n",
    "\n",
    "لنحول الناتج الى رسم بياني حتى يكون اكثر وضوحا\n",
    "</p>"
   ]
  },
  {
   "cell_type": "code",
   "execution_count": 24,
   "metadata": {},
   "outputs": [
    {
     "data": {
      "image/png": "[encoded data removed]",
      "text/plain": [
       "<matplotlib.figure.Figure at 0xf18244ba20>"
      ]
     },
     "metadata": {},
     "output_type": "display_data"
    }
   ],
   "source": [
    "ct.plot(kind='bar')\n",
    "plt.xlabel('Party')\n",
    "plt.ylabel(\"No. of candidates\")\n",
    "plt.show()"
   ]
  },
  {
   "cell_type": "markdown",
   "metadata": {},
   "source": [
    "<p style=\"font-family: Arial; font-size:1.2em;color:black; font-style:normal; text-align:right; direction: rtl\"><br>\n",
    "والان لنتعرف على متوسط تصويت اعضاء مجلس الشيوخ في جلسات التصويت\n",
    "</p>"
   ]
  },
  {
   "cell_type": "code",
   "execution_count": 25,
   "metadata": {},
   "outputs": [
    {
     "data": {
      "text/plain": [
       "00001    0.325\n",
       "00004    0.575\n",
       "00005    0.535\n",
       "00006    0.945\n",
       "00007    0.545\n",
       "00008    0.415\n",
       "00009    0.545\n",
       "00010    0.985\n",
       "00020    0.525\n",
       "00026    0.545\n",
       "00032    0.410\n",
       "00038    0.480\n",
       "00039    0.510\n",
       "00044    0.460\n",
       "00047    0.370\n",
       "dtype: float64"
      ]
     },
     "execution_count": 25,
     "metadata": {},
     "output_type": "execute_result"
    }
   ],
   "source": [
    "votes.mean()"
   ]
  },
  {
   "cell_type": "markdown",
   "metadata": {},
   "source": [
    "<p style=\"font-family: Arial; font-size:1.2em;color:black; font-style:normal; text-align:right; direction: rtl\"><br>\n",
    "لنرتب الناتج تصاعديا حتى نعرف ماهو اقل تصويت كان فيه توافق وماهو اكثر تصويت كان فيه توافق بأستخدام المثود sort_values\n",
    "\n",
    "</p>"
   ]
  },
  {
   "cell_type": "code",
   "execution_count": 26,
   "metadata": {},
   "outputs": [
    {
     "data": {
      "text/plain": [
       "00001    0.325\n",
       "00047    0.370\n",
       "00032    0.410\n",
       "00008    0.415\n",
       "00044    0.460\n",
       "00038    0.480\n",
       "00039    0.510\n",
       "00020    0.525\n",
       "00005    0.535\n",
       "00007    0.545\n",
       "00009    0.545\n",
       "00026    0.545\n",
       "00004    0.575\n",
       "00006    0.945\n",
       "00010    0.985\n",
       "dtype: float64"
      ]
     },
     "execution_count": 26,
     "metadata": {},
     "output_type": "execute_result"
    }
   ],
   "source": [
    "votes.mean().sort_values()"
   ]
  },
  {
   "cell_type": "markdown",
   "metadata": {},
   "source": [
    "<p style=\"font-family: Arial; font-size:1.75em;color:#09bef3; font-style:bold; text-align:right; direction: rtl; font-weight: bold\" ><br>\n",
    "\n",
    "تحضير البيانات لبناء النموذج:\n",
    "</p>\n",
    "<p style=\"font-family: Arial; font-size:1.2em;color:black; font-style:normal; text-align:right; direction: rtl\"><br>\n",
    "\n",
    "كما ذكرنا سابقا ان خوارزمية التكتل هي احد فروع التعليم بدون اشراف يعني ليس لدينا عمود Labels في البيانات او ليس لدينا y ولذلك سنستخدم خوارزمية التكتل من اجل انشاء عمود ال Labels من خلال التنبؤ به\n",
    "<br>\n",
    "الان سوف نقوم بتحضير البيانات والتي سوف نبني عليها النموذج وهذا البيانات تشمل جميع اعمدة التصويت يعني سوف نستبعد الاعمدة الثلاث الاولى والتي هي اسم السيناتور والحزب والولاية وسنختار باقي الاعمدة والتي هي اعمدة دعوات التصويت وسوف نخزن البيانات في متغير اسمه X\n",
    "\n",
    "</p>"
   ]
  },
  {
   "cell_type": "code",
   "execution_count": 27,
   "metadata": {},
   "outputs": [
    {
     "data": {
      "text/html": [
       "<div>\n",
       "<style>\n",
       "    .dataframe thead tr:only-child th {\n",
       "        text-align: right;\n",
       "    }\n",
       "\n",
       "    .dataframe thead th {\n",
       "        text-align: left;\n",
       "    }\n",
       "\n",
       "    .dataframe tbody tr th {\n",
       "        vertical-align: top;\n",
       "    }\n",
       "</style>\n",
       "<table border=\"1\" class=\"dataframe\">\n",
       "  <thead>\n",
       "    <tr style=\"text-align: right;\">\n",
       "      <th></th>\n",
       "      <th>00001</th>\n",
       "      <th>00004</th>\n",
       "      <th>00005</th>\n",
       "      <th>00006</th>\n",
       "      <th>00007</th>\n",
       "      <th>00008</th>\n",
       "      <th>00009</th>\n",
       "      <th>00010</th>\n",
       "      <th>00020</th>\n",
       "      <th>00026</th>\n",
       "      <th>00032</th>\n",
       "      <th>00038</th>\n",
       "      <th>00039</th>\n",
       "      <th>00044</th>\n",
       "      <th>00047</th>\n",
       "    </tr>\n",
       "  </thead>\n",
       "  <tbody>\n",
       "    <tr>\n",
       "      <th>0</th>\n",
       "      <td>0.0</td>\n",
       "      <td>1.0</td>\n",
       "      <td>1.0</td>\n",
       "      <td>1.0</td>\n",
       "      <td>1.0</td>\n",
       "      <td>0.0</td>\n",
       "      <td>0.0</td>\n",
       "      <td>1.0</td>\n",
       "      <td>1.0</td>\n",
       "      <td>1.0</td>\n",
       "      <td>0.0</td>\n",
       "      <td>0.0</td>\n",
       "      <td>0.0</td>\n",
       "      <td>0.0</td>\n",
       "      <td>0.0</td>\n",
       "    </tr>\n",
       "    <tr>\n",
       "      <th>1</th>\n",
       "      <td>0.0</td>\n",
       "      <td>1.0</td>\n",
       "      <td>1.0</td>\n",
       "      <td>1.0</td>\n",
       "      <td>1.0</td>\n",
       "      <td>0.0</td>\n",
       "      <td>0.0</td>\n",
       "      <td>1.0</td>\n",
       "      <td>0.0</td>\n",
       "      <td>1.0</td>\n",
       "      <td>0.0</td>\n",
       "      <td>1.0</td>\n",
       "      <td>0.0</td>\n",
       "      <td>1.0</td>\n",
       "      <td>0.0</td>\n",
       "    </tr>\n",
       "    <tr>\n",
       "      <th>2</th>\n",
       "      <td>1.0</td>\n",
       "      <td>0.0</td>\n",
       "      <td>0.0</td>\n",
       "      <td>1.0</td>\n",
       "      <td>0.0</td>\n",
       "      <td>1.0</td>\n",
       "      <td>0.0</td>\n",
       "      <td>1.0</td>\n",
       "      <td>0.0</td>\n",
       "      <td>0.0</td>\n",
       "      <td>1.0</td>\n",
       "      <td>1.0</td>\n",
       "      <td>0.0</td>\n",
       "      <td>1.0</td>\n",
       "      <td>1.0</td>\n",
       "    </tr>\n",
       "    <tr>\n",
       "      <th>3</th>\n",
       "      <td>0.0</td>\n",
       "      <td>1.0</td>\n",
       "      <td>1.0</td>\n",
       "      <td>1.0</td>\n",
       "      <td>1.0</td>\n",
       "      <td>0.0</td>\n",
       "      <td>1.0</td>\n",
       "      <td>1.0</td>\n",
       "      <td>1.0</td>\n",
       "      <td>1.0</td>\n",
       "      <td>0.0</td>\n",
       "      <td>0.0</td>\n",
       "      <td>1.0</td>\n",
       "      <td>0.0</td>\n",
       "      <td>0.0</td>\n",
       "    </tr>\n",
       "    <tr>\n",
       "      <th>4</th>\n",
       "      <td>0.0</td>\n",
       "      <td>0.0</td>\n",
       "      <td>0.0</td>\n",
       "      <td>1.0</td>\n",
       "      <td>0.0</td>\n",
       "      <td>1.0</td>\n",
       "      <td>0.0</td>\n",
       "      <td>1.0</td>\n",
       "      <td>0.0</td>\n",
       "      <td>0.0</td>\n",
       "      <td>0.0</td>\n",
       "      <td>1.0</td>\n",
       "      <td>0.0</td>\n",
       "      <td>1.0</td>\n",
       "      <td>0.0</td>\n",
       "    </tr>\n",
       "  </tbody>\n",
       "</table>\n",
       "</div>"
      ],
      "text/plain": [
       "   00001  00004  00005  00006  00007  00008  00009  00010  00020  00026  \\\n",
       "0    0.0    1.0    1.0    1.0    1.0    0.0    0.0    1.0    1.0    1.0   \n",
       "1    0.0    1.0    1.0    1.0    1.0    0.0    0.0    1.0    0.0    1.0   \n",
       "2    1.0    0.0    0.0    1.0    0.0    1.0    0.0    1.0    0.0    0.0   \n",
       "3    0.0    1.0    1.0    1.0    1.0    0.0    1.0    1.0    1.0    1.0   \n",
       "4    0.0    0.0    0.0    1.0    0.0    1.0    0.0    1.0    0.0    0.0   \n",
       "\n",
       "   00032  00038  00039  00044  00047  \n",
       "0    0.0    0.0    0.0    0.0    0.0  \n",
       "1    0.0    1.0    0.0    1.0    0.0  \n",
       "2    1.0    1.0    0.0    1.0    1.0  \n",
       "3    0.0    0.0    1.0    0.0    0.0  \n",
       "4    0.0    1.0    0.0    1.0    0.0  "
      ]
     },
     "execution_count": 27,
     "metadata": {},
     "output_type": "execute_result"
    }
   ],
   "source": [
    "X = votes.iloc[:,3:]\n",
    "X.head()"
   ]
  },
  {
   "cell_type": "markdown",
   "metadata": {},
   "source": [
    "<p style=\"font-family: Arial; font-size:1.75em;color:#09bef3; font-style:bold; text-align:right; direction: rtl; font-weight: bold\" ><br>\n",
    "\n",
    "بناء النموذج وتدريبه:\n",
    "</p>\n",
    "\n",
    "<p style=\"font-family: Arial; font-size:1.2em;color:black; font-style:normal; text-align:right; direction: rtl\"><br>\n",
    "سوف نبني نموذجنا بأستخدام خوارزمية التكتل KMeans والتي تقوم بتجميع البيانات المتشابهة مع بعض على شكل مجموعة وقد تكون لدينا في البيانات العديد من المجموعات ومن اهم معلمات هذه الخوارزمية هي عدد الكتل n_clusters وسنتعلم في الدورات القادمة كيف نختار عدد الكتل الافضل لبياناتنا ولكن هنا في هذه البيانات واضح جدا انه لدينا مجموعتين ولذلك سنختار 2 وايضا سنضع رقم عشوائي ثابت random_state للخوارزمية حتى نحصل على نفس النتيجة في كل مرة نشغل فيها النموذج وسوف نخزن النموذج في متغير اسمه kmeans_model\n",
    "\n",
    "</p>"
   ]
  },
  {
   "cell_type": "code",
   "execution_count": 28,
   "metadata": {
    "collapsed": true
   },
   "outputs": [],
   "source": [
    "kmeans_model = KMeans(n_clusters=2,random_state=1)"
   ]
  },
  {
   "cell_type": "markdown",
   "metadata": {},
   "source": [
    "\n",
    "<p style=\"font-family: Arial; font-size:1.2em;color:black; font-style:normal; text-align:right; direction: rtl\"><br>\n",
    "الان حتى ندرب النموذج على البيانات نحتاج الى المثود fit من داخل النموذج\n",
    "<br>\n",
    "وكما ذكرنا سابقا انه في نظام التعليم بدون اشراف لايوجد Labels هذا يعني انه لايوجد قيم نتنبئ بها\n",
    "<br>\n",
    "ولذلك لانستخدم predict في خوازرميات التكتل ولكن نستخدم بدلها transform\n",
    "<br>\n",
    "\n",
    "المثود transform تقوم بتطبيق ماتعلمه النموذج من البيانات التي تدرب عليها مثلا X والمعلمات التي تدرب عليها مثلا n_clusters=2 تقوم بتطبيق كل ذلك على بيانات اخرى وعلى سبيل المثال نقوم بتدريب النموذج بأستخدام fit على البيانات X ثم نقوم بتطبيق ماتعلمه النموذج على البيانات Z ولكن هنا ليس لدينا بيانات اخرى ولذلك سوف نقوم بتدريب النموذج وتطبيقه ايضا على X وبأمكاننا فعل ذلك بطريقتين وهما:\n",
    "\n",
    "<br>\n",
    "- تدريب النموذج على البيانات X بأستخدام fit ثم تطبيق النموذج على X بأستخدام transform يعني نقوم بالوظيفيتين بشكل منفصل\n",
    "<br>\n",
    "- اختصار الوظيفتين بوظيفة واحدة وهي تدريب وتطبيق بنفس الوقت fit_transform\n",
    "\n",
    "\n",
    "</p>"
   ]
  },
  {
   "cell_type": "code",
   "execution_count": 32,
   "metadata": {},
   "outputs": [],
   "source": [
    "senator_distances = kmeans_model.fit_transform(X)"
   ]
  },
  {
   "cell_type": "markdown",
   "metadata": {},
   "source": [
    "<p style=\"font-family: Arial; font-size:1.75em;color:#09bef3; font-style:bold; text-align:right; direction: rtl; font-weight: bold\" ><br>\n",
    "\n",
    "طريقة عمل خوارزمية التكتل:\n",
    "\n",
    "</p>\n",
    "\n",
    "<p style=\"font-family: Arial; font-size:1.2em;color:black; font-style:normal; text-align:right; direction: rtl\"><br>\n",
    "بعد ان اخترنا ان يكون لدينا كتلتين او مجموعتين n_clusters=2 قامت الخوارزمية بقسم البيانات الى مجموعتين هما 0,1 كل مجموعة تحتوي على بيانات متشابهة ومتقاربة جدا وربما ستسأل نفسك كيف قسمت الخوارزمية البيانات على اساس التشابه؟\n",
    "<br>\n",
    "والجواب البسيط هو تقوم الخوارزمية بأختيار سنتر لكل مجموعة وسنتعلم في الدورات القادمة كيف تختار هذا السنتر\n",
    "<br>\n",
    "ثم تقوم الخوارزمية بقياس المسافة بين كل نقطة والسنتر 0 والسنتر 1 حيث اذا كانت النقطة الفلانية اقرب الى سنتر المجموعة 0 هذا يعني ان هذه النقطة تقع في المجموعة الاولى اما اذا كانت اقرب الى سنتر المجموعة 1 هذا يعني ان هذه النقطة تقع ضمن المجموعة الثانية\n",
    "\n",
    "</p>\n",
    "\n",
    "\n",
    "<img src='https://lh3.googleusercontent.com/0fcZdqM2Rr3xQT55ljHVw6Kas9FyyHyDzH__h-zNZaDgSwAxHPkzG6M6hS_CQ6m0u4W07AFLwTRmMgaXzDgcgLz6igoiyzJTQw9HxPQgACRRYl0SnIMnsB4NXKBPc9rkqznAgKxTSw' /></a>\n",
    "\n"
   ]
  },
  {
   "cell_type": "markdown",
   "metadata": {},
   "source": [
    "<p style=\"font-family: Arial; font-size:1.75em;color:#09bef3; font-style:bold; text-align:right; direction: rtl; font-weight: bold\" ><br>\n",
    "\n",
    "عمود ال Labels الذي تنبأت به خوارزمية التكتل:\n",
    "</p>\n",
    "\n",
    "<p style=\"font-family: Arial; font-size:1.2em;color:black; font-style:normal; text-align:right; direction: rtl\"><br>\n",
    "لمعرفة عمود ال Labels الذي تنبئ به النموذج النموذج لكل سطر في بياناتنا او كل نقطة في الخوارزمية نحتاج الى استخدام المثود _labels من داخل النموذج والكود التالي يوضح ذلك كما سنقوم بخزن هذا العمود في متغير سوف نسميه labels\n",
    "</p>"
   ]
  },
  {
   "cell_type": "code",
   "execution_count": 33,
   "metadata": {},
   "outputs": [
    {
     "data": {
      "text/plain": [
       "array([1, 1, 0, 1, 0, 0, 1, 0, 1, 0, 0, 1, 0, 1, 0, 0, 0, 1, 1, 1, 1, 0, 1,\n",
       "       1, 1, 1, 1, 1, 0, 0, 1, 1, 0, 1, 1, 0, 1, 0, 1, 1, 1, 0, 1, 1, 0, 1,\n",
       "       1, 1, 1, 0, 0, 1, 0, 1, 0, 1, 1, 0, 1, 0, 1, 0, 0, 0, 1, 1, 0, 0, 0,\n",
       "       1, 1, 0, 1, 0, 1, 1, 1, 1, 1, 0, 1, 0, 0, 1, 1, 0, 1, 0, 1, 0, 1, 1,\n",
       "       1, 0, 1, 0, 0, 0, 1, 0])"
      ]
     },
     "execution_count": 33,
     "metadata": {},
     "output_type": "execute_result"
    }
   ],
   "source": [
    "labels = kmeans_model.labels_\n",
    "labels"
   ]
  },
  {
   "cell_type": "markdown",
   "metadata": {},
   "source": [
    "<p style=\"font-family: Arial; font-size:1.2em;color:black; font-style:normal; text-align:right; direction: rtl\"><br>\n",
    "وايضا بأمكاننا معرفة بعد جميع النقاط (كل نقطة تمثل سيناتور) عن سنتر المجموعة الاولى 0\n",
    "</p>"
   ]
  },
  {
   "cell_type": "code",
   "execution_count": 36,
   "metadata": {},
   "outputs": [
    {
     "data": {
      "text/plain": [
       "array([ 3.12141628,  2.6146248 ,  0.33960656,  3.42004795,  1.43833966,\n",
       "        0.33960656,  3.42004795,  0.33960656,  3.42004795,  0.31287498,\n",
       "        0.33960656,  3.27058526,  0.33960656,  3.34875646,  0.33960656,\n",
       "        1.18084816,  1.23852221,  3.42004795,  3.42004795,  3.42004795,\n",
       "        2.6146248 ,  0.58487332,  3.42004795,  3.42004795,  3.42004795,\n",
       "        3.42004795,  3.56324683,  3.42004795,  1.73847904,  0.33960656,\n",
       "        3.42004795,  3.42004795,  0.33960656,  3.42004795,  3.42004795,\n",
       "        0.58487332,  3.27058526,  0.33960656,  3.19687093,  3.42004795,\n",
       "        3.42004795,  0.76187197,  2.3965057 ,  3.28477567,  0.33960656,\n",
       "        3.42004795,  3.42004795,  3.42004795,  3.42004795,  0.88867948,\n",
       "        0.76187197,  3.01916091,  1.12020868,  3.56324683,  0.33960656,\n",
       "        3.34962442,  2.78266771,  0.33960656,  3.42004795,  1.71151573,\n",
       "        3.42004795,  0.33960656,  0.33960656,  0.33960656,  3.42004795,\n",
       "        3.42004795,  0.33960656,  0.33960656,  1.01109315,  3.56324683,\n",
       "        3.42004795,  0.76187197,  3.42004795,  0.33960656,  1.77652196,\n",
       "        3.42004795,  3.42004795,  3.42004795,  2.87211656,  0.33960656,\n",
       "        3.56324683,  0.33960656,  0.33960656,  3.42004795,  3.42004795,\n",
       "        0.33960656,  3.42004795,  0.76187197,  3.42004795,  1.71151573,\n",
       "        3.42004795,  3.42004795,  3.42004795,  0.33960656,  3.42004795,\n",
       "        1.32031799,  0.33960656,  0.33960656,  3.56324683,  0.33960656])"
      ]
     },
     "execution_count": 36,
     "metadata": {},
     "output_type": "execute_result"
    }
   ],
   "source": [
    "senator_distances[:,0]"
   ]
  },
  {
   "cell_type": "markdown",
   "metadata": {},
   "source": [
    "<p style=\"font-family: Arial; font-size:1.2em;color:black; font-style:normal; text-align:right; direction: rtl\"><br>\n",
    "\n",
    "\n",
    "وبنفس الطريقة بأمكاننا معرفة بعد كل نقطة عن سنتر المجموعة الثانية 1\n",
    "</p>"
   ]
  },
  {
   "cell_type": "code",
   "execution_count": 31,
   "metadata": {},
   "outputs": [
    {
     "data": {
      "text/plain": [
       "array([ 1.3134775 ,  2.05339992,  3.41651746,  0.24198446,  2.96866004,\n",
       "        3.41651746,  0.24198446,  3.41651746,  0.24198446,  3.30758755,\n",
       "        3.41651746,  0.96734144,  3.41651746,  0.53945585,  3.41651746,\n",
       "        3.12695614,  3.13536063,  0.24198446,  0.24198446,  0.24198446,\n",
       "        2.05339992,  3.31421108,  0.24198446,  0.24198446,  0.24198446,\n",
       "        0.24198446,  0.93036231,  0.24198446,  2.82326711,  3.41651746,\n",
       "        0.24198446,  0.24198446,  3.41651746,  0.24198446,  0.24198446,\n",
       "        3.31421108,  0.92088553,  3.41651746,  0.64668818,  0.24198446,\n",
       "        0.24198446,  3.27225905,  2.27626086,  0.93974352,  3.41651746,\n",
       "        0.24198446,  0.24198446,  0.24198446,  0.24198446,  3.27225905,\n",
       "        3.27225905,  1.66141833,  3.12134058,  0.93036231,  3.41651746,\n",
       "        1.10689798,  1.88408719,  3.41651746,  0.24198446,  2.80456307,\n",
       "        0.24198446,  3.41651746,  3.41651746,  3.41651746,  0.24198446,\n",
       "        0.24198446,  3.41651746,  3.41651746,  3.2936348 ,  0.93036231,\n",
       "        0.24198446,  3.27225905,  0.24198446,  3.41651746,  1.72996156,\n",
       "        0.24198446,  0.24198446,  0.24198446,  0.98753387,  3.41651746,\n",
       "        0.93036231,  3.41651746,  3.41651746,  0.24198446,  0.24198446,\n",
       "        3.41651746,  0.24198446,  3.27225905,  0.24198446,  2.80456307,\n",
       "        0.24198446,  0.24198446,  0.24198446,  3.41651746,  0.24198446,\n",
       "        3.118529  ,  3.41651746,  3.41651746,  1.00295807,  3.41651746])"
      ]
     },
     "execution_count": 31,
     "metadata": {},
     "output_type": "execute_result"
    }
   ],
   "source": [
    "senator_distances[:,1]"
   ]
  },
  {
   "cell_type": "markdown",
   "metadata": {},
   "source": [
    "<p style=\"font-family: Arial; font-size:1.2em;color:black; font-style:normal; text-align:right; direction: rtl\"><br>\n",
    "\n",
    "\n",
    "والان لنضيف الى بياناتنا الاعمدة الثلاث التي استخرجناها من الخوارزمية وهي عمود ال Labels وعمود البعد عن سنتر الكتلة الاولى وعمود البعد عن سنتر الكتلة الثانية من اجل معرفة كل سيناتور في اي مجموعة وقع وكم هو بعيد او قريب عن المجموعة الثانية (الحزب الاخر) لان هذا يعطينا معلومات مهمة جدا \n",
    "\n",
    "<br>\n",
    "حيث من الممكن ان يكون سيناتور ديمقراطي وقع في مجموعة الجمهوريين لقربه الشديد منهم وايضا هذا سيمكننا من معرفة اعضاء مجلس الشيوخ والذين يميلون الى الحزب الاخر لانهم سيكونون قريبين جدا من المجموعة الاخرى وسيمكننا ايضا من معرفة اعضاء مجلس الشيوخ المتحزبين جدا والذين بعيدين جدا عن الحزب الاخر ومختلفين معه بكل شيء\n",
    "\n",
    "</p>"
   ]
  },
  {
   "cell_type": "code",
   "execution_count": 38,
   "metadata": {
    "collapsed": true
   },
   "outputs": [],
   "source": [
    "votes['labels'] = labels\n",
    "votes['distance_cluster1'] = senator_distances[:,0]\n",
    "votes['distance_cluster2'] = senator_distances[:,1]"
   ]
  },
  {
   "cell_type": "code",
   "execution_count": 43,
   "metadata": {},
   "outputs": [
    {
     "data": {
      "text/html": [
       "<div>\n",
       "<style>\n",
       "    .dataframe thead tr:only-child th {\n",
       "        text-align: right;\n",
       "    }\n",
       "\n",
       "    .dataframe thead th {\n",
       "        text-align: left;\n",
       "    }\n",
       "\n",
       "    .dataframe tbody tr th {\n",
       "        vertical-align: top;\n",
       "    }\n",
       "</style>\n",
       "<table border=\"1\" class=\"dataframe\">\n",
       "  <thead>\n",
       "    <tr style=\"text-align: right;\">\n",
       "      <th></th>\n",
       "      <th>name</th>\n",
       "      <th>party</th>\n",
       "      <th>state</th>\n",
       "      <th>00001</th>\n",
       "      <th>00004</th>\n",
       "      <th>00005</th>\n",
       "      <th>00006</th>\n",
       "      <th>00007</th>\n",
       "      <th>00008</th>\n",
       "      <th>00009</th>\n",
       "      <th>...</th>\n",
       "      <th>00020</th>\n",
       "      <th>00026</th>\n",
       "      <th>00032</th>\n",
       "      <th>00038</th>\n",
       "      <th>00039</th>\n",
       "      <th>00044</th>\n",
       "      <th>00047</th>\n",
       "      <th>labels</th>\n",
       "      <th>distance_cluster1</th>\n",
       "      <th>distance_cluster2</th>\n",
       "    </tr>\n",
       "  </thead>\n",
       "  <tbody>\n",
       "    <tr>\n",
       "      <th>0</th>\n",
       "      <td>Alexander</td>\n",
       "      <td>R</td>\n",
       "      <td>TN</td>\n",
       "      <td>0.0</td>\n",
       "      <td>1.0</td>\n",
       "      <td>1.0</td>\n",
       "      <td>1.0</td>\n",
       "      <td>1.0</td>\n",
       "      <td>0.0</td>\n",
       "      <td>0.0</td>\n",
       "      <td>...</td>\n",
       "      <td>1.0</td>\n",
       "      <td>1.0</td>\n",
       "      <td>0.0</td>\n",
       "      <td>0.0</td>\n",
       "      <td>0.0</td>\n",
       "      <td>0.0</td>\n",
       "      <td>0.0</td>\n",
       "      <td>1</td>\n",
       "      <td>3.121416</td>\n",
       "      <td>1.313478</td>\n",
       "    </tr>\n",
       "    <tr>\n",
       "      <th>1</th>\n",
       "      <td>Ayotte</td>\n",
       "      <td>R</td>\n",
       "      <td>NH</td>\n",
       "      <td>0.0</td>\n",
       "      <td>1.0</td>\n",
       "      <td>1.0</td>\n",
       "      <td>1.0</td>\n",
       "      <td>1.0</td>\n",
       "      <td>0.0</td>\n",
       "      <td>0.0</td>\n",
       "      <td>...</td>\n",
       "      <td>0.0</td>\n",
       "      <td>1.0</td>\n",
       "      <td>0.0</td>\n",
       "      <td>1.0</td>\n",
       "      <td>0.0</td>\n",
       "      <td>1.0</td>\n",
       "      <td>0.0</td>\n",
       "      <td>1</td>\n",
       "      <td>2.614625</td>\n",
       "      <td>2.053400</td>\n",
       "    </tr>\n",
       "    <tr>\n",
       "      <th>2</th>\n",
       "      <td>Baldwin</td>\n",
       "      <td>D</td>\n",
       "      <td>WI</td>\n",
       "      <td>1.0</td>\n",
       "      <td>0.0</td>\n",
       "      <td>0.0</td>\n",
       "      <td>1.0</td>\n",
       "      <td>0.0</td>\n",
       "      <td>1.0</td>\n",
       "      <td>0.0</td>\n",
       "      <td>...</td>\n",
       "      <td>0.0</td>\n",
       "      <td>0.0</td>\n",
       "      <td>1.0</td>\n",
       "      <td>1.0</td>\n",
       "      <td>0.0</td>\n",
       "      <td>1.0</td>\n",
       "      <td>1.0</td>\n",
       "      <td>0</td>\n",
       "      <td>0.339607</td>\n",
       "      <td>3.416517</td>\n",
       "    </tr>\n",
       "    <tr>\n",
       "      <th>3</th>\n",
       "      <td>Barrasso</td>\n",
       "      <td>R</td>\n",
       "      <td>WY</td>\n",
       "      <td>0.0</td>\n",
       "      <td>1.0</td>\n",
       "      <td>1.0</td>\n",
       "      <td>1.0</td>\n",
       "      <td>1.0</td>\n",
       "      <td>0.0</td>\n",
       "      <td>1.0</td>\n",
       "      <td>...</td>\n",
       "      <td>1.0</td>\n",
       "      <td>1.0</td>\n",
       "      <td>0.0</td>\n",
       "      <td>0.0</td>\n",
       "      <td>1.0</td>\n",
       "      <td>0.0</td>\n",
       "      <td>0.0</td>\n",
       "      <td>1</td>\n",
       "      <td>3.420048</td>\n",
       "      <td>0.241984</td>\n",
       "    </tr>\n",
       "    <tr>\n",
       "      <th>4</th>\n",
       "      <td>Bennet</td>\n",
       "      <td>D</td>\n",
       "      <td>CO</td>\n",
       "      <td>0.0</td>\n",
       "      <td>0.0</td>\n",
       "      <td>0.0</td>\n",
       "      <td>1.0</td>\n",
       "      <td>0.0</td>\n",
       "      <td>1.0</td>\n",
       "      <td>0.0</td>\n",
       "      <td>...</td>\n",
       "      <td>0.0</td>\n",
       "      <td>0.0</td>\n",
       "      <td>0.0</td>\n",
       "      <td>1.0</td>\n",
       "      <td>0.0</td>\n",
       "      <td>1.0</td>\n",
       "      <td>0.0</td>\n",
       "      <td>0</td>\n",
       "      <td>1.438340</td>\n",
       "      <td>2.968660</td>\n",
       "    </tr>\n",
       "  </tbody>\n",
       "</table>\n",
       "<p>5 rows × 21 columns</p>\n",
       "</div>"
      ],
      "text/plain": [
       "        name party state  00001  00004  00005  00006  00007  00008  00009  \\\n",
       "0  Alexander     R    TN    0.0    1.0    1.0    1.0    1.0    0.0    0.0   \n",
       "1     Ayotte     R    NH    0.0    1.0    1.0    1.0    1.0    0.0    0.0   \n",
       "2    Baldwin     D    WI    1.0    0.0    0.0    1.0    0.0    1.0    0.0   \n",
       "3   Barrasso     R    WY    0.0    1.0    1.0    1.0    1.0    0.0    1.0   \n",
       "4     Bennet     D    CO    0.0    0.0    0.0    1.0    0.0    1.0    0.0   \n",
       "\n",
       "         ...          00020  00026  00032  00038  00039  00044  00047  labels  \\\n",
       "0        ...            1.0    1.0    0.0    0.0    0.0    0.0    0.0       1   \n",
       "1        ...            0.0    1.0    0.0    1.0    0.0    1.0    0.0       1   \n",
       "2        ...            0.0    0.0    1.0    1.0    0.0    1.0    1.0       0   \n",
       "3        ...            1.0    1.0    0.0    0.0    1.0    0.0    0.0       1   \n",
       "4        ...            0.0    0.0    0.0    1.0    0.0    1.0    0.0       0   \n",
       "\n",
       "   distance_cluster1  distance_cluster2  \n",
       "0           3.121416           1.313478  \n",
       "1           2.614625           2.053400  \n",
       "2           0.339607           3.416517  \n",
       "3           3.420048           0.241984  \n",
       "4           1.438340           2.968660  \n",
       "\n",
       "[5 rows x 21 columns]"
      ]
     },
     "execution_count": 43,
     "metadata": {},
     "output_type": "execute_result"
    }
   ],
   "source": [
    "votes.head()"
   ]
  },
  {
   "cell_type": "markdown",
   "metadata": {},
   "source": [
    "<p style=\"font-family: Arial; font-size:1.2em;color:black; font-style:normal; text-align:right; direction: rtl\"><br>\n",
    "\n",
    "الان سوف ننشئ جدول بأستخدام الوظيفة crosstab من Pandas يوضح لنا عدد الديمقراطيين والجمهوريين والمستقلين الذين كانوا ضمن المجموعة الاولى او ضمن المجموعة الثانية\n",
    "</p>"
   ]
  },
  {
   "cell_type": "code",
   "execution_count": 40,
   "metadata": {},
   "outputs": [
    {
     "data": {
      "text/html": [
       "<div>\n",
       "<style>\n",
       "    .dataframe thead tr:only-child th {\n",
       "        text-align: right;\n",
       "    }\n",
       "\n",
       "    .dataframe thead th {\n",
       "        text-align: left;\n",
       "    }\n",
       "\n",
       "    .dataframe tbody tr th {\n",
       "        vertical-align: top;\n",
       "    }\n",
       "</style>\n",
       "<table border=\"1\" class=\"dataframe\">\n",
       "  <thead>\n",
       "    <tr style=\"text-align: right;\">\n",
       "      <th>party</th>\n",
       "      <th>D</th>\n",
       "      <th>I</th>\n",
       "      <th>R</th>\n",
       "    </tr>\n",
       "    <tr>\n",
       "      <th>row_0</th>\n",
       "      <th></th>\n",
       "      <th></th>\n",
       "      <th></th>\n",
       "    </tr>\n",
       "  </thead>\n",
       "  <tbody>\n",
       "    <tr>\n",
       "      <th>0</th>\n",
       "      <td>41</td>\n",
       "      <td>2</td>\n",
       "      <td>0</td>\n",
       "    </tr>\n",
       "    <tr>\n",
       "      <th>1</th>\n",
       "      <td>3</td>\n",
       "      <td>0</td>\n",
       "      <td>54</td>\n",
       "    </tr>\n",
       "  </tbody>\n",
       "</table>\n",
       "</div>"
      ],
      "text/plain": [
       "party   D  I   R\n",
       "row_0           \n",
       "0      41  2   0\n",
       "1       3  0  54"
      ]
     },
     "execution_count": 40,
     "metadata": {},
     "output_type": "execute_result"
    }
   ],
   "source": [
    "pd.crosstab(labels,votes['party'])"
   ]
  },
  {
   "cell_type": "markdown",
   "metadata": {},
   "source": [
    "<p style=\"font-family: Arial; font-size:1.2em;color:black; font-style:normal; text-align:right; direction: rtl\"><br>\n",
    "\n",
    "وكما هو واضح ان عدد الديمقراطيين الذين كانوا ضمن المجموعة الاولى هو 41 بالاضافة الى 3 من الديمقراطيين كانوا ضمن مجموعة الحزب المنافس وهو حزب الجمهوريين وذلك لقرب هؤلاء الاعضاء من الجمهوريين في جلسات التصويت \n",
    "<br>\n",
    "وايضا العضوين المستقلين وقعوا ضمن مجموعة الديمقراطيين وذلك لقربهما من هذا الحزب\n",
    "<br>\n",
    "واخيرا جميع اعضاء الحزب الجمهوري كانوا ضمن مجموعة واحدة وهذا يدل على التزامهم الشديد بتوجهات حزبهم\n",
    "<br><br>\n",
    "والان لنحول هذا الجدول الى رسم بياني من اجل التوضيح المجموعتين\n",
    "\n",
    "</p>"
   ]
  },
  {
   "cell_type": "code",
   "execution_count": 58,
   "metadata": {},
   "outputs": [
    {
     "data": {
      "image/png": "[encoded data removed]",
      "text/plain": [
       "<matplotlib.figure.Figure at 0xf1839649b0>"
      ]
     },
     "metadata": {},
     "output_type": "display_data"
    }
   ],
   "source": [
    "pd.crosstab(labels,votes['party']).plot(kind='bar',stacked=True)\n",
    "x=[0,1]\n",
    "l=['cluster1','cluster2']\n",
    "plt.xticks(x,l)\n",
    "plt.title('Clustering')\n",
    "plt.xlabel('Clusters')\n",
    "plt.ylabel('No. of Senators')\n",
    "plt.tick_params(bottom='off',top='off',right='off',left='off')\n",
    "plt.legend(bbox_to_anchor=(1.05, 1), loc=2, borderaxespad=0.)\n",
    "plt.show()"
   ]
  },
  {
   "cell_type": "markdown",
   "metadata": {},
   "source": [
    "<p style=\"font-family: Arial; font-size:1.2em;color:black; font-style:normal; text-align:right; direction: rtl\"><br>\n",
    "والان لنستكشف اعضاء مجلس الشيوخ الذين كانوا في المجموعة المنافسة لحزبهم حيث كما علمنا سابقا انه هناك ثلاث اعضاء ديمقراطيين كانوا ضمن مجموعة الجمهوريين وقد يكون السبب وراء ذلك هو تصويت هؤلاء الاعضاء لصالح الجمهوريين في جلسات التصويت\n",
    "<br>\n",
    "ومن اجل عرض اسماء هؤلاء الاعضاء سوف نصنع فلتر فيه شرطين مربوطين ب and\n",
    "<br>\n",
    "الشرط الاول هو ان يكون قد وقع السيناتور في المجموعة الثانية 1\n",
    "<br>\n",
    "الشرط الثاني ان يكون السيناتور من حزب الديمقراطيين \n",
    "\n",
    "<br>\n",
    "وسوف نعرض فقط عمود اسم السيناتور وعمود الحزب\n",
    "</p>"
   ]
  },
  {
   "cell_type": "code",
   "execution_count": 44,
   "metadata": {},
   "outputs": [
    {
     "data": {
      "text/html": [
       "<div>\n",
       "<style>\n",
       "    .dataframe thead tr:only-child th {\n",
       "        text-align: right;\n",
       "    }\n",
       "\n",
       "    .dataframe thead th {\n",
       "        text-align: left;\n",
       "    }\n",
       "\n",
       "    .dataframe tbody tr th {\n",
       "        vertical-align: top;\n",
       "    }\n",
       "</style>\n",
       "<table border=\"1\" class=\"dataframe\">\n",
       "  <thead>\n",
       "    <tr style=\"text-align: right;\">\n",
       "      <th></th>\n",
       "      <th>name</th>\n",
       "      <th>party</th>\n",
       "    </tr>\n",
       "  </thead>\n",
       "  <tbody>\n",
       "    <tr>\n",
       "      <th>42</th>\n",
       "      <td>Heitkamp</td>\n",
       "      <td>D</td>\n",
       "    </tr>\n",
       "    <tr>\n",
       "      <th>56</th>\n",
       "      <td>Manchin</td>\n",
       "      <td>D</td>\n",
       "    </tr>\n",
       "    <tr>\n",
       "      <th>74</th>\n",
       "      <td>Reid</td>\n",
       "      <td>D</td>\n",
       "    </tr>\n",
       "  </tbody>\n",
       "</table>\n",
       "</div>"
      ],
      "text/plain": [
       "        name party\n",
       "42  Heitkamp     D\n",
       "56   Manchin     D\n",
       "74      Reid     D"
      ]
     },
     "execution_count": 44,
     "metadata": {},
     "output_type": "execute_result"
    }
   ],
   "source": [
    "democratic_outlier=votes[(labels==1) & (votes['party']=='D')]\n",
    "democratic_outlier[['name','party']]"
   ]
  },
  {
   "cell_type": "markdown",
   "metadata": {},
   "source": [
    "<p style=\"font-family: Arial; font-size:1.2em;color:black; font-style:normal; text-align:right; direction: rtl\"><br>\n",
    "\n",
    "وبنفس الطريقة سوف نستعرض اسماء الاعضاء المستقلين والذين وقعور ضمن مجموعة الديمقراطيين\n",
    "\n",
    "\n",
    "</p>"
   ]
  },
  {
   "cell_type": "code",
   "execution_count": 45,
   "metadata": {},
   "outputs": [
    {
     "data": {
      "text/html": [
       "<div>\n",
       "<style>\n",
       "    .dataframe thead tr:only-child th {\n",
       "        text-align: right;\n",
       "    }\n",
       "\n",
       "    .dataframe thead th {\n",
       "        text-align: left;\n",
       "    }\n",
       "\n",
       "    .dataframe tbody tr th {\n",
       "        vertical-align: top;\n",
       "    }\n",
       "</style>\n",
       "<table border=\"1\" class=\"dataframe\">\n",
       "  <thead>\n",
       "    <tr style=\"text-align: right;\">\n",
       "      <th></th>\n",
       "      <th>name</th>\n",
       "      <th>party</th>\n",
       "    </tr>\n",
       "  </thead>\n",
       "  <tbody>\n",
       "    <tr>\n",
       "      <th>50</th>\n",
       "      <td>King</td>\n",
       "      <td>I</td>\n",
       "    </tr>\n",
       "    <tr>\n",
       "      <th>79</th>\n",
       "      <td>Sanders</td>\n",
       "      <td>I</td>\n",
       "    </tr>\n",
       "  </tbody>\n",
       "</table>\n",
       "</div>"
      ],
      "text/plain": [
       "       name party\n",
       "50     King     I\n",
       "79  Sanders     I"
      ]
     },
     "execution_count": 45,
     "metadata": {},
     "output_type": "execute_result"
    }
   ],
   "source": [
    "independents_like_democrats=votes[(labels==0) &(votes['party']=='I')]\n",
    "independents_like_democrats[['name','party']]"
   ]
  },
  {
   "cell_type": "markdown",
   "metadata": {},
   "source": [
    "<p style=\"font-family: Arial; font-size:1.75em;color:#09bef3; font-style:bold; text-align:right; direction: rtl; font-weight: bold\" ><br>\n",
    "\n",
    "تصوير التباعد والتقارب بين المجموعتين: \n",
    "</p>\n",
    "\n",
    "<p style=\"font-family: Arial; font-size:1.2em;color:black; font-style:normal; text-align:right; direction: rtl\"><br>\n",
    "\n",
    "سوف نستخدم الرسم البياني المنتشر او المبعثر لتوضيح التباعد والتقارب بين المجموعتين التي تنبئ بها النموذج من اجل فهم قوة العلاقة والترابط بين الحزبين بشكل اكبر\n",
    "\n",
    "</p>"
   ]
  },
  {
   "cell_type": "code",
   "execution_count": 66,
   "metadata": {},
   "outputs": [
    {
     "data": {
      "image/png": "[encoded data removed]",
      "text/plain": [
       "<matplotlib.figure.Figure at 0xf184f0ea58>"
      ]
     },
     "metadata": {},
     "output_type": "display_data"
    }
   ],
   "source": [
    "plt.scatter(x= votes['distance_cluster1'], y= votes['distance_cluster2'], c= votes['labels'])\n",
    "\n",
    "plt.xlabel('distance cluster1')\n",
    "plt.ylabel('distance cluster2')\n",
    "plt.show()"
   ]
  },
  {
   "cell_type": "markdown",
   "metadata": {},
   "source": [
    "<p style=\"font-family: Arial; font-size:1.2em;color:black; font-style:normal; text-align:right; direction: rtl\"><br>\n",
    "\n",
    "وايضا بامكاننا استخدام الرسم البياني lmplot من مكتبة Seaborn لتوضيح العلاقة بين المجموعتين بشكل ارتب\n",
    "</p>"
   ]
  },
  {
   "cell_type": "code",
   "execution_count": 67,
   "metadata": {},
   "outputs": [
    {
     "data": {
      "image/png": "[encoded data removed]",
      "text/plain": [
       "<matplotlib.figure.Figure at 0xf184fb0518>"
      ]
     },
     "metadata": {},
     "output_type": "display_data"
    }
   ],
   "source": [
    "sns.lmplot(x='distance_cluster1',y='distance_cluster2',hue='labels',data=votes,fit_reg=False)\n",
    "plt.show()"
   ]
  },
  {
   "cell_type": "markdown",
   "metadata": {},
   "source": [
    "<p style=\"font-family: Arial; font-size:1.2em;color:black; font-style:normal; text-align:right; direction: rtl\"><br>\n",
    "\n",
    "واخيرا بامكاننا معرفة اكثر اعضاء مجلس الشيوخ المتحزبين والمتعصبين من خلال الكود التالي الذي يرتب اعضاء مجلس الشيوخ حسب التعصب من الاشد تعصبا الى الاقل\n",
    "\n",
    "</p>"
   ]
  },
  {
   "cell_type": "code",
   "execution_count": 141,
   "metadata": {
    "collapsed": true
   },
   "outputs": [],
   "source": [
    "extremism = (senator_distances ** 3).sum(axis=1)\n",
    "votes['extremism'] = extremism\n",
    "votes.sort_values('extremism',inplace=True,ascending=False)"
   ]
  },
  {
   "cell_type": "code",
   "execution_count": 142,
   "metadata": {},
   "outputs": [
    {
     "data": {
      "text/html": [
       "<div>\n",
       "<style>\n",
       "    .dataframe thead tr:only-child th {\n",
       "        text-align: right;\n",
       "    }\n",
       "\n",
       "    .dataframe thead th {\n",
       "        text-align: left;\n",
       "    }\n",
       "\n",
       "    .dataframe tbody tr th {\n",
       "        vertical-align: top;\n",
       "    }\n",
       "</style>\n",
       "<table border=\"1\" class=\"dataframe\">\n",
       "  <thead>\n",
       "    <tr style=\"text-align: right;\">\n",
       "      <th></th>\n",
       "      <th>name</th>\n",
       "      <th>party</th>\n",
       "      <th>extremism</th>\n",
       "    </tr>\n",
       "  </thead>\n",
       "  <tbody>\n",
       "    <tr>\n",
       "      <th>63</th>\n",
       "      <td>Mikulski</td>\n",
       "      <td>D</td>\n",
       "      <td>46.250476</td>\n",
       "    </tr>\n",
       "    <tr>\n",
       "      <th>85</th>\n",
       "      <td>Shaheen</td>\n",
       "      <td>D</td>\n",
       "      <td>46.046873</td>\n",
       "    </tr>\n",
       "    <tr>\n",
       "      <th>1</th>\n",
       "      <td>Ayotte</td>\n",
       "      <td>R</td>\n",
       "      <td>46.046873</td>\n",
       "    </tr>\n",
       "    <tr>\n",
       "      <th>8</th>\n",
       "      <td>Boozman</td>\n",
       "      <td>R</td>\n",
       "      <td>46.046873</td>\n",
       "    </tr>\n",
       "    <tr>\n",
       "      <th>21</th>\n",
       "      <td>Coons</td>\n",
       "      <td>D</td>\n",
       "      <td>46.046873</td>\n",
       "    </tr>\n",
       "  </tbody>\n",
       "</table>\n",
       "</div>"
      ],
      "text/plain": [
       "        name party  extremism\n",
       "63  Mikulski     D  46.250476\n",
       "85   Shaheen     D  46.046873\n",
       "1     Ayotte     R  46.046873\n",
       "8    Boozman     R  46.046873\n",
       "21     Coons     D  46.046873"
      ]
     },
     "execution_count": 142,
     "metadata": {},
     "output_type": "execute_result"
    }
   ],
   "source": [
    "votes[['name','party','extremism']].head(5)"
   ]
  },
  {
   "cell_type": "markdown",
   "metadata": {},
   "source": [
    "<br>\n",
    "\n",
    "<p style=\"font-family: Arial;font-size:5em; color:#09bef3; font-style:bold; text-align:center\">\n",
    "Congratulations\n",
    "</p>\n",
    "<br>\n",
    "<p style=\"font-family: Arial; font-size:1.2em;color:black; font-style:normal; text-align:right; direction: rtl\"><br>\n",
    "تهانينا لقد قمت بعمل عظيم حيث قمت بتحليل بيانات سياسية بأستخدام خوارزمية التكتل والتي تستخدم بشكل واسع جدا في عمليات تحليل البيانات واصبح بأمكانك الان استخدام هذه الخوارزمية في عدد كبير من انواع البيانات المشابهة والتي لايكون فيها عمود هدف وعلى سبيل المثال استخدام خوارزمية التكتل لتحليل بيانات عملاء الشركة من خلال تقسيم عملاء الشركة الى مجموعات مثلا على حسب فئاتهم العمرية او على حسب مستواهم التعليمي او استخدام هذه الخوارزمية لتحليل بيانات موقع الكتروني من خلال تقسيم زوار الموقع الى كتل حسب ساعات زيارتهم للموقع او حسب المناطق الجغرافية والخ.. من الامثلة الكثيرة ولذلك عليك تعلم هذه الخوارزمية واتقانها بالاضافة الى ان هناك العديد من التمارين في الدورة والتي تخص هذا المشروع عليك اكمالها من اجل تعلم بناء مشاريع بأستخدام هذه الخوارزمية واتقان هذه الخوارزمية بشكل اكبر واخيرا نتمنى ان تكون قد استمتعت في هذا المشروع ونتمنى ان تكون قد استفدت كثيرا منه\n",
    "</p>"
   ]
  },
  {
   "cell_type": "markdown",
   "metadata": {},
   "source": [
    "###### © Copyright LimFinity Institute of Technology "
   ]
  }
 ],
 "metadata": {
  "anaconda-cloud": {},
  "kernelspec": {
   "display_name": "Python 3",
   "language": "python",
   "name": "python3"
  },
  "language_info": {
   "codemirror_mode": {
    "name": "ipython",
    "version": 3
   },
   "file_extension": ".py",
   "mimetype": "text/x-python",
   "name": "python",
   "nbconvert_exporter": "python",
   "pygments_lexer": "ipython3",
   "version": "3.6.2"
  }
 },
 "nbformat": 4,
 "nbformat_minor": 1
}
